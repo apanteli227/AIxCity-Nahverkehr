{
 "cells": [
  {
   "cell_type": "code",
   "execution_count": 20,
   "metadata": {},
   "outputs": [
    {
     "name": "stderr",
     "output_type": "stream",
     "text": [
      "C:\\Users\\manue\\AppData\\Local\\Temp\\ipykernel_5500\\7571474.py:18: DtypeWarning: Columns (4) have mixed types. Specify dtype option on import or set low_memory=False.\n",
      "  gtfs_data[file] = pd.read_csv(file_path)\n"
     ]
    }
   ],
   "source": [
    "import pandas as pd\n",
    "\n",
    "\"\"\"\n",
    "Dieses Notebook nutzt die GTFS-Textdateien im Verzeichnis, um daraus die \n",
    "relevanten Daten für Bremen zu extrahieren. Diese werden anschließend in einer\n",
    "csv-Datei gespeichert und entsprechend bereitgestellt. Um zu verhidnern, dass\n",
    "eine csv-Datei generiert wird, einfach entsprechende Zeile auskommentieren.\n",
    "\n",
    "\"\"\"\n",
    "def load_gtfs_data():\n",
    "    # Liste aller GTFS-Textdateien\n",
    "    gtfs_files = [\n",
    "        \"stops\",\n",
    "        \"routes\",\n",
    "        \"trips\",\n",
    "        \"agency\",\n",
    "        \"transfers\"\n",
    "    ]\n",
    "\n",
    "    # Lade jede GTFS-Datei in ein DataFrame und speichere es in einem Dictionary\n",
    "    gtfs_data = {}\n",
    "    for file in gtfs_files:\n",
    "        file_path = f\"{file}.txt\"\n",
    "        try:\n",
    "            gtfs_data[file] = pd.read_csv(file_path)\n",
    "        except FileNotFoundError:\n",
    "            print(f\"Warnung: Datei {file}.txt nicht gefunden.\")\n",
    "\n",
    "    return gtfs_data\n",
    "\n",
    "# Funktionsaufruf zur Erstellung der Textdateien im Dictionary\n",
    "gtfs_data = load_gtfs_data()\n",
    "\n",
    "# Zugriff auf DataFrame für Haltestellen\n",
    "stops_df = gtfs_data.get(\"stops\")\n",
    "\n",
    "# Filtere das DataFrame, um nur Haltestellen-ID, Namen und Geo-Koordinaten zu behalten\n",
    "filtered_stops_df = stops_df[[\"stop_id\", \"stop_name\", \"stop_lat\", \"stop_lon\"]]\n",
    "\n",
    "# Sonderhaltestellen\n",
    "sonder_linie_4 = [\"Lilienthal Truperdeich\", \"Lilienthal Trupe\", \"Lilienthal Feldhäuser Straße\", \"Lilienthal Lilienthal-Mitte\", \"Lilienthal Moorhauser Landstraße\",\"Lilienthal Timkerweg\",\"Lilienthal Schoofmoor\", \"Lilienthal Auf dem Kamp\", \"Lilienthal Kutscher Behrens\", \"Lilienthal\"]\n",
    "sonder_linie_27 = [\"Brinkum-Nord Ochtum Park (IKEA)\", \"Brinkum(Stuhr) IKEA/Marktkauf\"]\n",
    "sonder_linie_55 = [\"Brinkum(Stuhr) Varreler Landstraße\",\"Brinkum(Stuhr) Moordeicher Landstraße\", \"Brinkum(Stuhr) Schule Moordeich\", \"Brinkum(Stuhr) Am Hexendeich\", \"Brinkum(Stuhr) Hespenstraße\", \"Brinkum(Stuhr) Zur Windhorst\", \"Brinkum(Stuhr) Pablo-Picasso-Straße\", \"Brinkum(Stuhr) Rheinallee\", \"Brinkum(Stuhr) Moselallee\", \"Brinkum(Stuhr) Tannenstraße\", \"Brinkum(Stuhr) Stuhrbaum\", \"Brinkum(Stuhr) Zeppelinstraße\", \"Brinkum(Stuhr) Magdeburger Straße\", \"Brinkum(Stuhr) Am Bahnhof\", \"Brinkum(Stuhr) Schule Feldstraße\", \"Brinkum(Stuhr) Marktplatz\", \"Brinkum(Stuhr) Schule Brunnenweg\"]\n",
    "sonder_linie_61 = [\"Delmenhorst Sandbüren\"]\n",
    "sonder_linie_90 = [\"Neuenkirchen(Schwanewede) Landwehr\",\"Neuenkirchen(Schwanewede) Marktplatz\", \"Neuenkirchen(Schwanewede) Ahnten\", \"Neuenkirchen(Schwanewede) Vorbruch\", \"Neuenkirchen(Schwanewede) Neuenkirchen(Schwanewede) Heidstraße\"]\n",
    "sonder_linie_94 = [\"Schwanewede Insterburger Weg\", \"Schwanewede Zum Marktplatz\", \"Schwanewede Am Markt\", \"Schwanewede Dreienkamp\", \"Schwanewede Eichengrund\", \"Schwanewede Hospitalstraße\", \"Schwanewede Ostlandstraße\", \"Schwanewede Molkereiweg\", \"Schwanewede Rathaus Schwanewede\", \"Schwanewede Landhaus Schwanewede\", \"Schwanewede Am Spreeken\", \"Schwanwede Herderstraße\", \"Schwanewede Schützenweg\"]\n",
    "\n",
    "# Kombiniere alle Listen in eine Liste\n",
    "all_special_stops = sonder_linie_4 + sonder_linie_27 + sonder_linie_55 + sonder_linie_61 + sonder_linie_90 + sonder_linie_94\n",
    "\n",
    "# Filtere nach Haltestellen, die in Bremen oder in der kombinierten Liste enthalten sind\n",
    "stops_bremen_df = filtered_stops_df[filtered_stops_df[\"stop_name\"].str.startswith(\"Bremen\") | filtered_stops_df[\"stop_name\"].isin(all_special_stops)]\n",
    "\n",
    "# Speichere das Ergebnis in einer CSV-Datei\n",
    "stops_bremen_df.to_csv(\"stops_bremen.csv\", index=False)"
   ]
  },
  {
   "cell_type": "code",
   "execution_count": 21,
   "metadata": {},
   "outputs": [],
   "source": [
    "# Zugriff auf DataFrame für Verkehrsunternehmen\n",
    "agency_df = gtfs_data.get(\"agency\")\n",
    "\n",
    "#Filtere das DataFrame um nur die ID und Namen zu behalten\n",
    "filtered_agency_df = agency_df[[\"agency_id\", \"agency_name\"]]\n",
    "\n",
    "#Filtern der BSAG (ID ist 326)\n",
    "agency_bsag = filtered_agency_df[agency_df[\"agency_id\"] == 326]\n",
    "\n",
    "# Speichere das Ergebnis in einer CSV-Datei\n",
    "agency_bsag.to_csv(\"agency_bsag.csv\", index=False)\n"
   ]
  },
  {
   "cell_type": "code",
   "execution_count": 22,
   "metadata": {},
   "outputs": [],
   "source": [
    "# Zugriff auf DataFrame für Routen\n",
    "routes_df = gtfs_data.get(\"routes\")\n",
    "\n",
    "#Filtere das DataFrame um nur die Routen-ID und Agency-ID zu behalten\n",
    "filtered_routes_df = routes_df[[\"route_id\", \"agency_id\", \"route_short_name\"]]\n",
    "\n",
    "#Filtern der Routen der BSAG (ID ist 326)\n",
    "routes_bsag = filtered_routes_df[filtered_routes_df[\"agency_id\"] == 326]\n",
    "\n",
    "# Speichere das Ergebnis in einer CSV-Datei\n",
    "routes_bsag.to_csv(\"routes_bsag.csv\", index=False)"
   ]
  },
  {
   "cell_type": "code",
   "execution_count": 23,
   "metadata": {},
   "outputs": [],
   "source": [
    "# Zugriff auf DataFrame für Trips\n",
    "trips_df = gtfs_data.get(\"trips\")\n",
    "\n",
    "#Filtere das DataFrame um nur die Route-ID und Trip-ID zu behalten\n",
    "filtered_trips_df = trips_df[[\"trip_id\", \"route_id\", \"trip_headsign\"]]\n",
    "\n",
    "#Filtern der Trips der BSAG, welche auch eine entsprechende Routen-ID in der Routen-Tabelle besitzen\n",
    "trips_bsag = filtered_trips_df[filtered_trips_df[\"route_id\"].isin(routes_bsag[\"route_id\"])]\n",
    "\n",
    "# Speichere das Ergebnis in einer CSV-Datei\n",
    "trips_bsag.to_csv(\"trips_bsag.csv\", index=False)"
   ]
  },
  {
   "cell_type": "code",
   "execution_count": 24,
   "metadata": {},
   "outputs": [],
   "source": [
    "# Zugriff auf DataFrame für Transfers\n",
    "transfer_df = gtfs_data.get(\"transfers\")\n",
    "\n",
    "#Filtere das DataFrame um nur die From_Stop-ID und To_Stop-ID zu behalten\n",
    "filtered_transfer_df = transfer_df[[\"from_stop_id\", \"to_stop_id\"]]\n",
    "\n",
    "#Filtern der Transfers der BSAG, welche auch eine entsprechende Stop-ID in der Stop-Tabelle besitzen\n",
    "transfer_bsag = filtered_transfer_df[filtered_transfer_df[\"from_stop_id\"].isin(stops_bremen_df[\"stop_id\"]) & filtered_transfer_df[\"to_stop_id\"].isin(stops_bremen_df[\"stop_id\"])]\n",
    "\n",
    "# Speichere das Ergebnis in einer CSV-Datei\n",
    "transfer_bsag.to_csv(\"transfer_bsag.csv\", index=False)"
   ]
  }
 ],
 "metadata": {
  "kernelspec": {
   "display_name": "Python 3",
   "language": "python",
   "name": "python3"
  },
  "language_info": {
   "codemirror_mode": {
    "name": "ipython",
    "version": 3
   },
   "file_extension": ".py",
   "mimetype": "text/x-python",
   "name": "python",
   "nbconvert_exporter": "python",
   "pygments_lexer": "ipython3",
   "version": "3.12.1"
  }
 },
 "nbformat": 4,
 "nbformat_minor": 2
}
